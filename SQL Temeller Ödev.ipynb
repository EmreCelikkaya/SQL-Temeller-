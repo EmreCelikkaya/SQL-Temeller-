{
 "cells": [
  {
   "cell_type": "markdown",
   "metadata": {},
   "source": [
    "## 1-)Kredi limiti (creditlimit) 100.000'den büyük olan tüm müşterilerin (-customers tablosundan) müşteri numarası, adı ve kredi limit bilgilerini creditlimit alanına göre sıralı bir şekilde gösteriniz.\n",
    "\n",
    "## 2-)customers tablosundan customernumber bilgisi 151 olan kaydın her sütununu gösteriniz.\n",
    "\n",
    "## 3-)Posta kodu (postalcode) 10022 olan müşterilerin kredi limit bilgilerini azalan sırada gösteriniz."
   ]
  },
  {
   "cell_type": "markdown",
   "metadata": {},
   "source": [
    "### 1-)\n",
    "### SELECT\n",
    "### customerNumber,\n",
    "### customerName,\n",
    "### creditLimit\n",
    "### FROM\n",
    "### customers\n",
    "### WHERE creditLimit > 100000\n",
    "### ORDER BY creditLimit DESC;"
   ]
  },
  {
   "cell_type": "markdown",
   "metadata": {},
   "source": [
    "### 2-)\n",
    "### SELECT * FROM \n",
    "### customers\n",
    "### WHERE customerNumber=151;"
   ]
  },
  {
   "cell_type": "markdown",
   "metadata": {},
   "source": [
    "### 3-)\n",
    "### SELECT * FROM \n",
    "### customers\n",
    "### WHERE postalcode=10022\n",
    "### ORDER BY creditLimit DESC;"
   ]
  }
 ],
 "metadata": {
  "kernelspec": {
   "display_name": "Python 3",
   "language": "python",
   "name": "python3"
  },
  "language_info": {
   "codemirror_mode": {
    "name": "ipython",
    "version": 3
   },
   "file_extension": ".py",
   "mimetype": "text/x-python",
   "name": "python",
   "nbconvert_exporter": "python",
   "pygments_lexer": "ipython3",
   "version": "3.7.4"
  }
 },
 "nbformat": 4,
 "nbformat_minor": 2
}
